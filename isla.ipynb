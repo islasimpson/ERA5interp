{
 "cells": [
  {
   "cell_type": "code",
   "execution_count": 1,
   "id": "cf3de1ea-d1de-4263-aafa-f5feb00a3c88",
   "metadata": {},
   "outputs": [],
   "source": [
    "import xarray as xr\n",
    "import numpy as np\n",
    "import xesmf as xe\n",
    "import matplotlib.pyplot as plt\n",
    "from math import nan\n",
    "import geocat.comp as gc"
   ]
  },
  {
   "cell_type": "code",
   "execution_count": 2,
   "id": "9b2f8d72-610d-48f1-9100-b3bf72bddc64",
   "metadata": {},
   "outputs": [],
   "source": [
    "outpath=\"/glade/scratch/islas/ERA5interp/\""
   ]
  },
  {
   "cell_type": "markdown",
   "id": "4c54713a-fafa-42d3-af61-82409c1e53e5",
   "metadata": {},
   "source": [
    "### Set up parameters"
   ]
  },
  {
   "cell_type": "code",
   "execution_count": 3,
   "id": "8f24a16c-e937-4f28-a7aa-0dea8d125c61",
   "metadata": {},
   "outputs": [],
   "source": [
    "R=287.053\n",
    "g=9.81\n",
    "dtdzst = -6.5e-3"
   ]
  },
  {
   "cell_type": "markdown",
   "id": "1368ae45-33df-4944-b7a2-dab609e7a0c5",
   "metadata": {},
   "source": [
    "### Read in the ERA5 data"
   ]
  },
  {
   "cell_type": "code",
   "execution_count": 4,
   "id": "91d83d0d-6f29-45ec-861b-05e3019dcbf8",
   "metadata": {},
   "outputs": [],
   "source": [
    "era5path=\"/glade/collections/rda/data/ds633.6/e5.oper.an.ml/202106/\"\n",
    "t_era5 = xr.open_dataset(era5path+\"e5.oper.an.ml.0_5_0_0_0_t.regn320sc.2021060100_2021060105.nc\")\n",
    "u_era5 = xr.open_dataset(era5path+\"e5.oper.an.ml.0_5_0_2_2_u.regn320uv.2021060100_2021060105.nc\")\n",
    "v_era5 = xr.open_dataset(era5path+\"e5.oper.an.ml.0_5_0_2_3_v.regn320uv.2021060100_2021060105.nc\")\n",
    "ps_era5 = xr.open_dataset(era5path+\"e5.oper.an.ml.128_134_sp.regn320sc.2021060100_2021060105.nc\")\n",
    "phis_era5 = xr.open_dataset(\"./phis/ERA5_phis.nc\")\n",
    "phis_era5 = phis_era5.rename({'g4_lon_3':'longitude','g4_lat_2':'latitude'})\n",
    "#phis_era5 = phis_era5.isel(initial_time0_hours=0, forecast_time1=0)\n",
    "a_half = t_era5.a_half\n",
    "b_half = t_era5.b_half\n",
    "a_full = t_era5.a_model\n",
    "b_full = t_era5.b_model"
   ]
  },
  {
   "cell_type": "markdown",
   "id": "0452f253-1f93-4585-abc4-55f88b70f0d1",
   "metadata": {},
   "source": [
    "### Read in the CESM grid"
   ]
  },
  {
   "cell_type": "code",
   "execution_count": 5,
   "id": "4ee597b3-826c-46a6-b6cf-17e0829770d0",
   "metadata": {},
   "outputs": [],
   "source": [
    "cesm_gridh = xr.open_dataset(\"./grids/CAM6_horizontal.nc\")\n",
    "grid_out = xr.Dataset({'lat': (['lat'], cesm_gridh.lat.values)},{'lon':(['lon'], cesm_gridh.lon.values)})\n",
    "cesm_gridv = xr.open_dataset(\"./grids/CAM6_vertical.nc\")"
   ]
  },
  {
   "cell_type": "markdown",
   "id": "2ed380bf-4d3c-42ff-ac16-376ecb3e19ed",
   "metadata": {},
   "source": [
    "### Using conservative regridding"
   ]
  },
  {
   "cell_type": "code",
   "execution_count": 6,
   "id": "05bab4c8-5cb7-4e57-bdd8-9db58dcb6e06",
   "metadata": {},
   "outputs": [
    {
     "name": "stderr",
     "output_type": "stream",
     "text": [
      "/glade/u/home/islas/miniconda3/envs/era5interpenv/lib/python3.10/site-packages/xesmf/backend.py:56: UserWarning: Latitude is outside of [-90, 90]\n",
      "  warnings.warn('Latitude is outside of [-90, 90]')\n"
     ]
    }
   ],
   "source": [
    "reusewgt=False\n",
    "wgtfile=outpath+\"wgtfile.nc\"\n",
    "\n",
    "cesm_gridh = xr.open_dataset(\"./grids/CAM6_horizontal.nc\")\n",
    "grid_out = xr.Dataset({'lat': (['lat'], cesm_gridh.lat.values)},{'lon':(['lon'], cesm_gridh.lon.values)})\n",
    "\n",
    "regridder = xe.Regridder(t_era5, grid_out, 'conservative', periodic=True, reuse_weights=reusewgt, filename=wgtfile)\n",
    "\n",
    "phis_era5_rg = regridder(phis_era5.Z_GDS4_SFC)\n",
    "t_era5_rg = regridder(t_era5.T)\n",
    "u_era5_rg = regridder(u_era5.U)\n",
    "v_era5_rg = regridder(v_era5.V)\n",
    "ps_era5_rg = regridder(ps_era5.SP)"
   ]
  },
  {
   "cell_type": "markdown",
   "id": "fe8d85d8-3d18-41b9-836b-e8ec2f67a6e9",
   "metadata": {},
   "source": [
    "### Reading in the CAM surface geopotential and calculating $\\Delta$z and $\\Delta \\Phi_{s}$"
   ]
  },
  {
   "cell_type": "code",
   "execution_count": 8,
   "id": "a961de1e-9056-4fd9-9b09-9504a485aa90",
   "metadata": {},
   "outputs": [],
   "source": [
    "phis_cam6 = xr.open_dataset(\"./phis/CAM6_phis.nc\").isel(time=0)\n",
    "deltaz = (phis_cam6.PHIS - phis_era5_rg.values)/9.81\n",
    "deltaphis = (phis_era5_rg.values - phis_cam6.PHIS)"
   ]
  },
  {
   "cell_type": "markdown",
   "id": "3a6bf846-cc1d-4414-bc98-7119e47e4006",
   "metadata": {},
   "source": [
    "### Adjusting surface pressure"
   ]
  },
  {
   "cell_type": "code",
   "execution_count": 9,
   "id": "f3880724-d01f-4df0-830f-22d128c3bce9",
   "metadata": {},
   "outputs": [],
   "source": [
    "pfull = a_full + b_full*ps_era5_rg ; pfull = pfull.transpose(\"time\",\"level\",\"lat\",\"lon\")\n",
    "phalf = a_half + b_half*ps_era5_rg ; phalf = phalf.transpose(\"time\",\"half_level\",\"lat\",\"lon\")\n",
    "dp = phalf.isel(half_level=slice(1,phalf.half_level.size)).values - phalf.isel(half_level=slice(0,phalf.half_level.size-1))\n",
    "dp = dp.rename(half_level='level')\n",
    "dp = dp.transpose(\"time\",\"level\",\"lat\",\"lon\")\n",
    "halfdpbelow = phalf.isel(half_level=slice(1,phalf.half_level.size)).values - pfull\n",
    "halfdpbelow = halfdpbelow.transpose(\"time\",\"level\",\"lat\",\"lon\")"
   ]
  },
  {
   "cell_type": "markdown",
   "id": "1f3c0a14-49e3-422e-8479-dc3dadb66c64",
   "metadata": {},
   "source": [
    "### Calculate the height of each level"
   ]
  },
  {
   "cell_type": "code",
   "execution_count": 10,
   "id": "6c5dec4b-b598-4025-a545-e0b3e3a46da2",
   "metadata": {},
   "outputs": [],
   "source": [
    "#----Note, I haven't done exactly what's in the instructions here.  I used the dp between the interface below and the level for the\n",
    "#---- k level\n",
    "z = t_era5_rg.copy(deep=True)*0\n",
    "CHT = (1./pfull)*dp*t_era5_rg\n",
    "CHTk = (1./pfull)*halfdpbelow*t_era5_rg\n",
    "for k in np.arange(0,pfull.level.size,1):\n",
    "    z[:,k,:,:] = (R/g)*( CHT.isel(level=slice(k+1,CHT.level.size)).sum(\"level\") + \n",
    "                                           CHTk.isel(level=k) )"
   ]
  },
  {
   "cell_type": "markdown",
   "id": "9b836c96-e760-415e-bf24-5b80077519a2",
   "metadata": {},
   "source": [
    "### Find the temperature and the pressure at the first level above 150m"
   ]
  },
  {
   "cell_type": "code",
   "execution_count": 11,
   "id": "65fd5f40-b3a4-4d67-a8bd-3eb19badcfa8",
   "metadata": {},
   "outputs": [],
   "source": [
    "# Setting t_era5_rg where the height is below 150 to NaN's\n",
    "t_era5_rg_forz = t_era5_rg.copy(deep=True)\n",
    "p_era5_rg_forz = pfull.copy(deep=True)\n",
    "\n",
    "t_era5_rg_forz = t_era5_rg_forz.where( z > 150, nan)\n",
    "p_era5_rg_forz = p_era5_rg_forz.where( z > 150, nan)\n",
    "\n",
    "# Find the minimum heights above 150\n",
    "zabove150 = z.where( z > 150, nan) \n",
    "minz = zabove150.min(\"level\")\n",
    "\n",
    "# Grab out the T and p at that level\n",
    "t_era5_rg_forz = t_era5_rg_forz.where( z == minz, nan)\n",
    "p_era5_rg_forz = p_era5_rg_forz.where( z == minz, nan)\n",
    "\n",
    "t_era5_rg_forz.transpose(\"time\",\"lat\",\"lon\",\"level\")\n",
    "p_era5_rg_forz.transpose(\"time\",\"lat\",\"lon\",\"level\")\n",
    "\n",
    "t_era5_rg_forz_stacked = t_era5_rg_forz.stack(z=(\"time\",\"lat\",\"lon\",\"level\"))\n",
    "p_era5_rg_forz_stacked = p_era5_rg_forz.stack(z=(\"time\",\"lat\",\"lon\",\"level\"))\n",
    "\n",
    "t_era5_rg_forz_stacked = t_era5_rg_forz_stacked.dropna(\"z\")\n",
    "p_era5_rg_forz_stacked = p_era5_rg_forz_stacked.dropna(\"z\")\n",
    "\n",
    "t_era5_150 = np.reshape(np.array(t_era5_rg_forz_stacked),[t_era5_rg_forz.time.size, t_era5_rg_forz.lat.size, t_era5_rg_forz.lon.size])\n",
    "p_era5_150 = np.reshape(np.array(p_era5_rg_forz_stacked),[p_era5_rg_forz.time.size, p_era5_rg_forz.lat.size, p_era5_rg_forz.lon.size])\n",
    "\n",
    "t_era5_150 = xr.DataArray(t_era5_150, dims=['time','lat','lon'],\n",
    "                          coords=[t_era5_rg_forz.time, t_era5_rg_forz.lat, t_era5_rg_forz.lon], name='t_era5_150')\n",
    "p_era5_150 = xr.DataArray(p_era5_150, dims=['time','lat','lon'],\n",
    "                          coords=[p_era5_rg_forz.time, p_era5_rg_forz.lat, p_era5_rg_forz.lon], name='p_era5_150')"
   ]
  },
  {
   "cell_type": "markdown",
   "id": "10b4204b-58b0-4563-859e-cc9d1c8d88b1",
   "metadata": {},
   "source": [
    "### Calculate the Tsurf and T$_{o}$"
   ]
  },
  {
   "cell_type": "code",
   "execution_count": 12,
   "id": "06d39003-0301-458a-87e7-c946d68fc9c1",
   "metadata": {},
   "outputs": [],
   "source": [
    "tsurf = t_era5_150 - dtdzst*(R/g)*( (ps_era5_rg/p_era5_150) - 1)*t_era5_150\n",
    "to = tsurf - dtdzst*phis_era5_rg/g"
   ]
  },
  {
   "cell_type": "markdown",
   "id": "9e632036-0d6b-4ad2-b6e3-2263c3a28c6b",
   "metadata": {},
   "source": [
    "### Calculate the modified $\\Gamma$ and $T_{surf}$ for the extrapolation"
   ]
  },
  {
   "cell_type": "code",
   "execution_count": 13,
   "id": "5dc2c55e-db23-4244-bfcb-a79277cd76bb",
   "metadata": {},
   "outputs": [],
   "source": [
    "tsurf_mod = tsurf.copy(deep=True)\n",
    "gamma = tsurf.copy(deep=True)*0 + dtdzst\n",
    "\n",
    "#--Mods for if T_{o} > 290.5 and T_{surf} <= 290.5\n",
    "gamma = gamma.where( ~( (to > 290.5) & (tsurf <= 290.5) ), (290.5 - tsurf)*(g/phis_era5_rg) )\n",
    "\n",
    "#--Mods for if T_{o} > 290.5 and T_{surf} > 290.5\n",
    "gamma = gamma.where( ~( (to > 290.5) & (tsurf > 290.5)), 0)\n",
    "tsurf_mod = tsurf_mod.where( ~( (to > 290.5) & (tsurf > 290.5)), 0.5*(290.5 + tsurf) )\n",
    "\n",
    "#--Mods for if T_{surf} < 255\n",
    "gamma = gamma.where( tsurf >= 255, dtdzst)\n",
    "tsurf_mod = tsurf_mod.where( tsurf >= 255, 0.5*(255 + tsurf) )"
   ]
  },
  {
   "cell_type": "markdown",
   "id": "6b9c2ed3-2308-4f15-9772-bca842227bb0",
   "metadata": {},
   "source": [
    "### Extrapolate $p_{s}$ from $\\Phi_{s}^{i}$ to $\\Phi_{s}^{n}$ "
   ]
  },
  {
   "cell_type": "code",
   "execution_count": 14,
   "id": "82043b23-840c-4887-a5d0-a8e96cadd3f3",
   "metadata": {},
   "outputs": [],
   "source": [
    "x = (np.array(gamma)*np.array(deltaphis) / (g*np.array(tsurf_mod))) \n",
    "psuse = ps_era5_rg*np.exp( (np.array(deltaphis)/(R*np.array(tsurf_mod)))*( 1 - (x/2.) + (x**2)/3) ) \n",
    "#!!!! modify this for the grid points where the deltaphis is really small."
   ]
  },
  {
   "cell_type": "markdown",
   "id": "df0018d4-6b06-4ce5-a8e5-978ad1532212",
   "metadata": {},
   "source": [
    "### Perform the vertical interpolation"
   ]
  },
  {
   "cell_type": "markdown",
   "id": "229aa274-16d8-45d4-b8a7-7d4ba5bbaef7",
   "metadata": {},
   "source": [
    "### !!! I think this needs to be better.  It's not going to be efficient."
   ]
  },
  {
   "cell_type": "code",
   "execution_count": 15,
   "id": "06ee1a92-efea-490c-b4b9-4683bd1b6091",
   "metadata": {},
   "outputs": [],
   "source": [
    "newlevels = cesm_gridv.hyam*1e5 + cesm_gridv.hybm*psuse"
   ]
  },
  {
   "cell_type": "code",
   "execution_count": 16,
   "id": "c450a752-13dc-4726-b66c-e8bcbd0288f3",
   "metadata": {},
   "outputs": [],
   "source": [
    "### !!! Change to vertical"
   ]
  },
  {
   "cell_type": "code",
   "execution_count": 17,
   "id": "00d3969a-dd22-4fdf-8d12-3c32622953e8",
   "metadata": {},
   "outputs": [],
   "source": [
    "t_era5_rg = t_era5_rg.rename(level='lev')\n",
    "a_full = a_full.rename(level='lev')\n",
    "b_full = b_full.rename(level='lev')"
   ]
  },
  {
   "cell_type": "code",
   "execution_count": 18,
   "id": "a8e3f076-d071-4fac-a99b-83532c45908f",
   "metadata": {},
   "outputs": [],
   "source": [
    "ttest = t_era5_rg.isel(lon=0, lat=0, time=0)\n",
    "pstest = psuse.isel(lon=0, lat=0, time=0)\n",
    "tbottest = ttest.isel(lev=ttest.lev.size-1)\n",
    "newlevtest = newlevels.isel(lon=0, lat=0, time=0)"
   ]
  },
  {
   "cell_type": "code",
   "execution_count": 19,
   "id": "cb5f8c9b-cb08-436e-80f0-b1eb1d9f44bc",
   "metadata": {},
   "outputs": [],
   "source": [
    "tinterp = gc.interpolation.interp_hybrid_to_pressure(\n",
    "    ttest, pstest, a_full, b_full, p0=1, new_levels=newlevtest.values, method='log', lev_dim='lev', extrapolate=False)"
   ]
  },
  {
   "cell_type": "code",
   "execution_count": 30,
   "id": "45b7028f-e16a-49f6-8052-9a26386c5e6f",
   "metadata": {},
   "outputs": [],
   "source": [
    "ttest = ttest.rename('T')\n",
    "ttest.to_netcdf('dattest.nc')\n",
    "pstest = pstest.rename('PS')\n",
    "pstest.to_netcdf('dattest.nc', mode='a')\n",
    "a_full.to_netcdf('dattest.nc', mode='a')\n",
    "b_full.to_netcdf('dattest.nc', mode='a')\n",
    "#newlevtest.to_netcdf('dattest.nc', mode='a')\n",
    "tbottest = tbottest.rename('TBOT')\n",
    "tbottest.to_netcdf('dattest.nc', mode='a')\n",
    "phis_era5_rg.to_netcdf('dattest_phis.nc')\n",
    "\n",
    "newlevtest.to_netcdf('dattest_newlevs.nc')\n"
   ]
  },
  {
   "cell_type": "code",
   "execution_count": 27,
   "id": "922172c7-fe71-4bd0-8e6e-d33e15bc9bde",
   "metadata": {},
   "outputs": [
    {
     "name": "stdout",
     "output_type": "stream",
     "text": [
      "<xarray.DataArray (lev: 137)>\n",
      "array([186.20729, 196.09845, 201.5217 , 204.12112, 205.77226, 208.27309,\n",
      "       210.52003, 210.23029, 206.49706, 205.93336, 205.31563, 203.45363,\n",
      "       199.76317, 195.95024, 191.8652 , 188.60718, 185.49236, 182.84442,\n",
      "       180.89369, 178.10297, 175.15602, 171.95988, 169.7062 , 168.56342,\n",
      "       167.10811, 165.25577, 164.1448 , 163.694  , 163.12439, 162.08728,\n",
      "       161.0049 , 160.22981, 159.52556, 158.6651 , 157.92522, 157.5447 ,\n",
      "       157.52187, 157.63573, 157.73627, 157.84383, 158.02623, 158.21857,\n",
      "       158.3134 , 158.36095, 158.49884, 158.79533, 159.20567, 159.66893,\n",
      "       160.18497, 160.80406, 161.47388, 162.11266, 162.72287, 163.39293,\n",
      "       164.12976, 164.85368, 165.53552, 166.23637, 167.03394, 167.9108 ,\n",
      "       168.74278, 169.54945, 170.37967, 171.23306, 172.02733, 172.74413,\n",
      "       173.41304, 174.0445 , 174.63358, 175.21278, 175.81917, 176.31897,\n",
      "       176.65353, 176.90688, 177.08476, 177.16014, 177.17891, 177.19952,\n",
      "       177.18939, 177.17924, 177.27592, 177.43608, 177.57442, 177.67973,\n",
      "       177.78119, 177.96861, 178.29282, 178.7044 , 179.14478, 179.62204,\n",
      "       180.11351, 180.59734, 181.15796, 181.80443, 182.51404, 183.33905,\n",
      "       184.29935, 185.39496, 186.5109 , 187.61308, 188.63126, 189.60565,\n",
      "       190.5213 , 191.3506 , 192.13277, 192.91394, 193.68263, 194.41103,\n",
      "       195.04524, 195.53717, 195.8997 , 196.04292, 196.05013, 195.9824 ,\n",
      "       195.84688, 195.65302, 195.41727, 195.13121, 194.787  , 194.29776,\n",
      "       193.62006, 192.74951, 191.74892, 190.71704, 189.75827, 188.89136,\n",
      "       188.0894 , 187.36899, 186.64374, 185.81079, 184.58144, 183.2358 ,\n",
      "       182.65784, 182.457  , 182.34703, 182.27092, 182.1768 ],\n",
      "      dtype=float32)\n",
      "Coordinates:\n",
      "  * lev      (lev) int32 1 2 3 4 5 6 7 8 9 ... 130 131 132 133 134 135 136 137\n",
      "    time     datetime64[ns] 2021-06-01\n",
      "    lat      float32 -90.0\n",
      "    lon      float32 0.0\n",
      "Attributes:\n",
      "    regrid_method:  conservative\n"
     ]
    }
   ],
   "source": [
    "print(ttest)"
   ]
  },
  {
   "cell_type": "code",
   "execution_count": 20,
   "id": "80ff26a3-10f7-4afa-b189-22e5022362fc",
   "metadata": {},
   "outputs": [
    {
     "ename": "KeyError",
     "evalue": "\"DataArray.cf does not understand the key 'vertical'. Use 'repr(DataArray.cf)' (or 'DataArray.cf' in a Jupyter environment) to see a list of key names that can be interpreted.\"",
     "output_type": "error",
     "traceback": [
      "\u001b[0;31m---------------------------------------------------------------------------\u001b[0m",
      "\u001b[0;31mKeyError\u001b[0m                                  Traceback (most recent call last)",
      "File \u001b[0;32m~/miniconda3/envs/era5interpenv/lib/python3.10/site-packages/xarray/core/dataarray.py:804\u001b[0m, in \u001b[0;36mDataArray._getitem_coord\u001b[0;34m(self, key)\u001b[0m\n\u001b[1;32m    803\u001b[0m \u001b[38;5;28;01mtry\u001b[39;00m:\n\u001b[0;32m--> 804\u001b[0m     var \u001b[38;5;241m=\u001b[39m \u001b[38;5;28;43mself\u001b[39;49m\u001b[38;5;241;43m.\u001b[39;49m\u001b[43m_coords\u001b[49m\u001b[43m[\u001b[49m\u001b[43mkey\u001b[49m\u001b[43m]\u001b[49m\n\u001b[1;32m    805\u001b[0m \u001b[38;5;28;01mexcept\u001b[39;00m \u001b[38;5;167;01mKeyError\u001b[39;00m:\n",
      "\u001b[0;31mKeyError\u001b[0m: 'vertical'",
      "\nDuring handling of the above exception, another exception occurred:\n",
      "\u001b[0;31mKeyError\u001b[0m                                  Traceback (most recent call last)",
      "File \u001b[0;32m~/miniconda3/envs/era5interpenv/lib/python3.10/site-packages/cf_xarray/accessor.py:750\u001b[0m, in \u001b[0;36m_getitem\u001b[0;34m(accessor, key, skip)\u001b[0m\n\u001b[1;32m    749\u001b[0m \u001b[38;5;28;01mfor\u001b[39;00m name \u001b[38;5;129;01min\u001b[39;00m allnames:\n\u001b[0;32m--> 750\u001b[0m     extravars \u001b[38;5;241m=\u001b[39m \u001b[43maccessor\u001b[49m\u001b[38;5;241;43m.\u001b[39;49m\u001b[43mget_associated_variable_names\u001b[49m\u001b[43m(\u001b[49m\n\u001b[1;32m    751\u001b[0m \u001b[43m        \u001b[49m\u001b[43mname\u001b[49m\u001b[43m,\u001b[49m\u001b[43m \u001b[49m\u001b[43mskip_bounds\u001b[49m\u001b[38;5;241;43m=\u001b[39;49m\u001b[43mscalar_key\u001b[49m\u001b[43m,\u001b[49m\u001b[43m \u001b[49m\u001b[43merror\u001b[49m\u001b[38;5;241;43m=\u001b[39;49m\u001b[38;5;28;43;01mFalse\u001b[39;49;00m\n\u001b[1;32m    752\u001b[0m \u001b[43m    \u001b[49m\u001b[43m)\u001b[49m\n\u001b[1;32m    753\u001b[0m     coords\u001b[38;5;241m.\u001b[39mextend(itertools\u001b[38;5;241m.\u001b[39mchain(\u001b[38;5;241m*\u001b[39mextravars\u001b[38;5;241m.\u001b[39mvalues()))\n",
      "File \u001b[0;32m~/miniconda3/envs/era5interpenv/lib/python3.10/site-packages/cf_xarray/accessor.py:1623\u001b[0m, in \u001b[0;36mCFAccessor.get_associated_variable_names\u001b[0;34m(self, name, skip_bounds, error)\u001b[0m\n\u001b[1;32m   1622\u001b[0m coords: \u001b[38;5;28mdict\u001b[39m[\u001b[38;5;28mstr\u001b[39m, \u001b[38;5;28mlist\u001b[39m[Hashable]] \u001b[38;5;241m=\u001b[39m {k: [] \u001b[38;5;28;01mfor\u001b[39;00m k \u001b[38;5;129;01min\u001b[39;00m keys}\n\u001b[0;32m-> 1623\u001b[0m attrs_or_encoding \u001b[38;5;241m=\u001b[39m ChainMap(\u001b[38;5;28;43mself\u001b[39;49m\u001b[38;5;241;43m.\u001b[39;49m\u001b[43m_obj\u001b[49m\u001b[43m[\u001b[49m\u001b[43mname\u001b[49m\u001b[43m]\u001b[49m\u001b[38;5;241m.\u001b[39mattrs, \u001b[38;5;28mself\u001b[39m\u001b[38;5;241m.\u001b[39m_obj[name]\u001b[38;5;241m.\u001b[39mencoding)\n\u001b[1;32m   1625\u001b[0m coordinates \u001b[38;5;241m=\u001b[39m attrs_or_encoding\u001b[38;5;241m.\u001b[39mget(\u001b[38;5;124m\"\u001b[39m\u001b[38;5;124mcoordinates\u001b[39m\u001b[38;5;124m\"\u001b[39m, \u001b[38;5;28;01mNone\u001b[39;00m)\n",
      "File \u001b[0;32m~/miniconda3/envs/era5interpenv/lib/python3.10/site-packages/xarray/core/dataarray.py:813\u001b[0m, in \u001b[0;36mDataArray.__getitem__\u001b[0;34m(self, key)\u001b[0m\n\u001b[1;32m    812\u001b[0m \u001b[38;5;28;01mif\u001b[39;00m \u001b[38;5;28misinstance\u001b[39m(key, \u001b[38;5;28mstr\u001b[39m):\n\u001b[0;32m--> 813\u001b[0m     \u001b[38;5;28;01mreturn\u001b[39;00m \u001b[38;5;28;43mself\u001b[39;49m\u001b[38;5;241;43m.\u001b[39;49m\u001b[43m_getitem_coord\u001b[49m\u001b[43m(\u001b[49m\u001b[43mkey\u001b[49m\u001b[43m)\u001b[49m\n\u001b[1;32m    814\u001b[0m \u001b[38;5;28;01melse\u001b[39;00m:\n\u001b[1;32m    815\u001b[0m     \u001b[38;5;66;03m# xarray-style array indexing\u001b[39;00m\n",
      "File \u001b[0;32m~/miniconda3/envs/era5interpenv/lib/python3.10/site-packages/xarray/core/dataarray.py:807\u001b[0m, in \u001b[0;36mDataArray._getitem_coord\u001b[0;34m(self, key)\u001b[0m\n\u001b[1;32m    806\u001b[0m     dim_sizes \u001b[38;5;241m=\u001b[39m \u001b[38;5;28mdict\u001b[39m(\u001b[38;5;28mzip\u001b[39m(\u001b[38;5;28mself\u001b[39m\u001b[38;5;241m.\u001b[39mdims, \u001b[38;5;28mself\u001b[39m\u001b[38;5;241m.\u001b[39mshape))\n\u001b[0;32m--> 807\u001b[0m     _, key, var \u001b[38;5;241m=\u001b[39m \u001b[43m_get_virtual_variable\u001b[49m\u001b[43m(\u001b[49m\u001b[38;5;28;43mself\u001b[39;49m\u001b[38;5;241;43m.\u001b[39;49m\u001b[43m_coords\u001b[49m\u001b[43m,\u001b[49m\u001b[43m \u001b[49m\u001b[43mkey\u001b[49m\u001b[43m,\u001b[49m\u001b[43m \u001b[49m\u001b[43mdim_sizes\u001b[49m\u001b[43m)\u001b[49m\n\u001b[1;32m    809\u001b[0m \u001b[38;5;28;01mreturn\u001b[39;00m \u001b[38;5;28mself\u001b[39m\u001b[38;5;241m.\u001b[39m_replace_maybe_drop_dims(var, name\u001b[38;5;241m=\u001b[39mkey)\n",
      "File \u001b[0;32m~/miniconda3/envs/era5interpenv/lib/python3.10/site-packages/xarray/core/dataset.py:185\u001b[0m, in \u001b[0;36m_get_virtual_variable\u001b[0;34m(variables, key, dim_sizes)\u001b[0m\n\u001b[1;32m    184\u001b[0m \u001b[38;5;28;01mif\u001b[39;00m \u001b[38;5;28mlen\u001b[39m(split_key) \u001b[38;5;241m!=\u001b[39m \u001b[38;5;241m2\u001b[39m:\n\u001b[0;32m--> 185\u001b[0m     \u001b[38;5;28;01mraise\u001b[39;00m \u001b[38;5;167;01mKeyError\u001b[39;00m(key)\n\u001b[1;32m    187\u001b[0m ref_name, var_name \u001b[38;5;241m=\u001b[39m split_key\n",
      "\u001b[0;31mKeyError\u001b[0m: 'vertical'",
      "\nDuring handling of the above exception, another exception occurred:\n",
      "\u001b[0;31mKeyError\u001b[0m                                  Traceback (most recent call last)",
      "Cell \u001b[0;32mIn[20], line 1\u001b[0m\n\u001b[0;32m----> 1\u001b[0m tinterp \u001b[38;5;241m=\u001b[39m \u001b[43mgc\u001b[49m\u001b[38;5;241;43m.\u001b[39;49m\u001b[43minterpolation\u001b[49m\u001b[38;5;241;43m.\u001b[39;49m\u001b[43minterp_hybrid_to_pressure\u001b[49m\u001b[43m(\u001b[49m\n\u001b[1;32m      2\u001b[0m \u001b[43m    \u001b[49m\u001b[43mttest\u001b[49m\u001b[43m,\u001b[49m\u001b[43m \u001b[49m\u001b[43mpstest\u001b[49m\u001b[43m,\u001b[49m\u001b[43m \u001b[49m\u001b[43ma_full\u001b[49m\u001b[43m,\u001b[49m\u001b[43m \u001b[49m\u001b[43mb_full\u001b[49m\u001b[43m,\u001b[49m\u001b[43m \u001b[49m\u001b[43mp0\u001b[49m\u001b[38;5;241;43m=\u001b[39;49m\u001b[38;5;241;43m1\u001b[39;49m\u001b[43m,\u001b[49m\u001b[43m \u001b[49m\u001b[43mnew_levels\u001b[49m\u001b[38;5;241;43m=\u001b[39;49m\u001b[43mnewlevtest\u001b[49m\u001b[38;5;241;43m.\u001b[39;49m\u001b[43mvalues\u001b[49m\u001b[43m,\u001b[49m\u001b[43m \u001b[49m\u001b[43mmethod\u001b[49m\u001b[38;5;241;43m=\u001b[39;49m\u001b[38;5;124;43m'\u001b[39;49m\u001b[38;5;124;43mlog\u001b[39;49m\u001b[38;5;124;43m'\u001b[39;49m\u001b[43m,\u001b[49m\u001b[43m \u001b[49m\u001b[43mlev_dim\u001b[49m\u001b[38;5;241;43m=\u001b[39;49m\u001b[38;5;124;43m'\u001b[39;49m\u001b[38;5;124;43mlev\u001b[39;49m\u001b[38;5;124;43m'\u001b[39;49m\u001b[43m,\u001b[49m\u001b[43m \u001b[49m\u001b[43mextrapolate\u001b[49m\u001b[38;5;241;43m=\u001b[39;49m\u001b[38;5;28;43;01mTrue\u001b[39;49;00m\u001b[43m,\u001b[49m\n\u001b[1;32m      3\u001b[0m \u001b[43m    \u001b[49m\u001b[43mvariable\u001b[49m\u001b[38;5;241;43m=\u001b[39;49m\u001b[38;5;124;43m'\u001b[39;49m\u001b[38;5;124;43mtemperature\u001b[39;49m\u001b[38;5;124;43m'\u001b[39;49m\u001b[43m,\u001b[49m\u001b[43m \u001b[49m\u001b[43mt_bot\u001b[49m\u001b[38;5;241;43m=\u001b[39;49m\u001b[43mtbottest\u001b[49m\u001b[43m,\u001b[49m\u001b[43m \u001b[49m\u001b[43mphi_sfc\u001b[49m\u001b[38;5;241;43m=\u001b[39;49m\u001b[43mphis_era5_rg\u001b[49m\u001b[43m)\u001b[49m\n",
      "File \u001b[0;32m~/miniconda3/envs/era5interpenv/lib/python3.10/site-packages/geocat/comp/interpolation.py:511\u001b[0m, in \u001b[0;36minterp_hybrid_to_pressure\u001b[0;34m(data, ps, hyam, hybm, p0, new_levels, lev_dim, method, extrapolate, variable, t_bot, phi_sfc)\u001b[0m\n\u001b[1;32m    508\u001b[0m output \u001b[38;5;241m=\u001b[39m output\u001b[38;5;241m.\u001b[39mtranspose(\u001b[38;5;241m*\u001b[39mdims)\u001b[38;5;241m.\u001b[39massign_coords(coords)\n\u001b[1;32m    510\u001b[0m \u001b[38;5;28;01mif\u001b[39;00m extrapolate:\n\u001b[0;32m--> 511\u001b[0m     output \u001b[38;5;241m=\u001b[39m \u001b[43m_vertical_remap_extrap\u001b[49m\u001b[43m(\u001b[49m\u001b[43mnew_levels\u001b[49m\u001b[43m,\u001b[49m\u001b[43m \u001b[49m\u001b[43mlev_dim\u001b[49m\u001b[43m,\u001b[49m\u001b[43m \u001b[49m\u001b[43mdata\u001b[49m\u001b[43m,\u001b[49m\u001b[43m \u001b[49m\u001b[43moutput\u001b[49m\u001b[43m,\u001b[49m\n\u001b[1;32m    512\u001b[0m \u001b[43m                                    \u001b[49m\u001b[43mpressure\u001b[49m\u001b[43m,\u001b[49m\u001b[43m \u001b[49m\u001b[43mps\u001b[49m\u001b[43m,\u001b[49m\u001b[43m \u001b[49m\u001b[43mvariable\u001b[49m\u001b[43m,\u001b[49m\u001b[43m \u001b[49m\u001b[43mt_bot\u001b[49m\u001b[43m,\u001b[49m\u001b[43m \u001b[49m\u001b[43mphi_sfc\u001b[49m\u001b[43m)\u001b[49m\n\u001b[1;32m    514\u001b[0m \u001b[38;5;28;01mreturn\u001b[39;00m output\n",
      "File \u001b[0;32m~/miniconda3/envs/era5interpenv/lib/python3.10/site-packages/geocat/comp/interpolation.py:288\u001b[0m, in \u001b[0;36m_vertical_remap_extrap\u001b[0;34m(new_levels, lev_dim, data, output, pressure, ps, variable, t_bot, phi_sfc)\u001b[0m\n\u001b[1;32m    245\u001b[0m \u001b[38;5;28;01mdef\u001b[39;00m \u001b[38;5;21m_vertical_remap_extrap\u001b[39m(new_levels, lev_dim, data, output, pressure, ps,\n\u001b[1;32m    246\u001b[0m                            variable, t_bot, phi_sfc):\n\u001b[1;32m    247\u001b[0m \u001b[38;5;250m    \u001b[39m\u001b[38;5;124;03m\"\"\"A helper function to call the appropriate extrapolation function based\u001b[39;00m\n\u001b[1;32m    248\u001b[0m \u001b[38;5;124;03m    on the user's inputs.\u001b[39;00m\n\u001b[1;32m    249\u001b[0m \n\u001b[0;32m   (...)\u001b[0m\n\u001b[1;32m    286\u001b[0m \u001b[38;5;124;03m        A DataArray containing the data after extrapolation.\u001b[39;00m\n\u001b[1;32m    287\u001b[0m \u001b[38;5;124;03m    \"\"\"\u001b[39;00m\n\u001b[0;32m--> 288\u001b[0m     plev_name \u001b[38;5;241m=\u001b[39m \u001b[43mpressure\u001b[49m\u001b[38;5;241;43m.\u001b[39;49m\u001b[43mcf\u001b[49m\u001b[43m[\u001b[49m\u001b[38;5;124;43m'\u001b[39;49m\u001b[38;5;124;43mvertical\u001b[39;49m\u001b[38;5;124;43m'\u001b[39;49m\u001b[43m]\u001b[49m\u001b[38;5;241m.\u001b[39mname\n\u001b[1;32m    289\u001b[0m     sfc_index \u001b[38;5;241m=\u001b[39m pressure[plev_name]\u001b[38;5;241m.\u001b[39margmax()\u001b[38;5;241m.\u001b[39mdata  \u001b[38;5;66;03m# index of the model surface\u001b[39;00m\n\u001b[1;32m    290\u001b[0m     p_sfc \u001b[38;5;241m=\u001b[39m pressure\u001b[38;5;241m.\u001b[39misel(\u001b[38;5;241m*\u001b[39m\u001b[38;5;241m*\u001b[39m\u001b[38;5;28mdict\u001b[39m({plev_name: sfc_index\n\u001b[1;32m    291\u001b[0m                                  }))  \u001b[38;5;66;03m# extract pressure at lowest level\u001b[39;00m\n",
      "File \u001b[0;32m~/miniconda3/envs/era5interpenv/lib/python3.10/site-packages/cf_xarray/accessor.py:2587\u001b[0m, in \u001b[0;36mCFDataArrayAccessor.__getitem__\u001b[0;34m(self, key)\u001b[0m\n\u001b[1;32m   2582\u001b[0m \u001b[38;5;28;01mif\u001b[39;00m \u001b[38;5;129;01mnot\u001b[39;00m \u001b[38;5;28misinstance\u001b[39m(key, Hashable):\n\u001b[1;32m   2583\u001b[0m     \u001b[38;5;28;01mraise\u001b[39;00m \u001b[38;5;167;01mKeyError\u001b[39;00m(\n\u001b[1;32m   2584\u001b[0m         \u001b[38;5;124mf\u001b[39m\u001b[38;5;124m\"\u001b[39m\u001b[38;5;124mCannot use an Iterable of keys with DataArrays. Expected a single string. Received \u001b[39m\u001b[38;5;132;01m{\u001b[39;00mkey\u001b[38;5;132;01m!r}\u001b[39;00m\u001b[38;5;124m instead.\u001b[39m\u001b[38;5;124m\"\u001b[39m\n\u001b[1;32m   2585\u001b[0m     )\n\u001b[0;32m-> 2587\u001b[0m \u001b[38;5;28;01mreturn\u001b[39;00m \u001b[43m_getitem\u001b[49m\u001b[43m(\u001b[49m\u001b[38;5;28;43mself\u001b[39;49m\u001b[43m,\u001b[49m\u001b[43m \u001b[49m\u001b[43mkey\u001b[49m\u001b[43m)\u001b[49m\n",
      "File \u001b[0;32m~/miniconda3/envs/era5interpenv/lib/python3.10/site-packages/cf_xarray/accessor.py:793\u001b[0m, in \u001b[0;36m_getitem\u001b[0;34m(accessor, key, skip)\u001b[0m\n\u001b[1;32m    790\u001b[0m     \u001b[38;5;28;01mreturn\u001b[39;00m ds\u001b[38;5;241m.\u001b[39mset_coords(coords)\n\u001b[1;32m    792\u001b[0m \u001b[38;5;28;01mexcept\u001b[39;00m \u001b[38;5;167;01mKeyError\u001b[39;00m:\n\u001b[0;32m--> 793\u001b[0m     \u001b[38;5;28;01mraise\u001b[39;00m \u001b[38;5;167;01mKeyError\u001b[39;00m(\n\u001b[1;32m    794\u001b[0m         \u001b[38;5;124mf\u001b[39m\u001b[38;5;124m\"\u001b[39m\u001b[38;5;132;01m{\u001b[39;00mkind\u001b[38;5;132;01m}\u001b[39;00m\u001b[38;5;124m.cf does not understand the key \u001b[39m\u001b[38;5;132;01m{\u001b[39;00mk\u001b[38;5;132;01m!r}\u001b[39;00m\u001b[38;5;124m. \u001b[39m\u001b[38;5;124m\"\u001b[39m\n\u001b[1;32m    795\u001b[0m         \u001b[38;5;124mf\u001b[39m\u001b[38;5;124m\"\u001b[39m\u001b[38;5;124mUse \u001b[39m\u001b[38;5;124m'\u001b[39m\u001b[38;5;124mrepr(\u001b[39m\u001b[38;5;132;01m{\u001b[39;00mkind\u001b[38;5;132;01m}\u001b[39;00m\u001b[38;5;124m.cf)\u001b[39m\u001b[38;5;124m'\u001b[39m\u001b[38;5;124m (or \u001b[39m\u001b[38;5;124m'\u001b[39m\u001b[38;5;132;01m{\u001b[39;00mkind\u001b[38;5;132;01m}\u001b[39;00m\u001b[38;5;124m.cf\u001b[39m\u001b[38;5;124m'\u001b[39m\u001b[38;5;124m in a Jupyter environment) to see a list of key names that can be interpreted.\u001b[39m\u001b[38;5;124m\"\u001b[39m\n\u001b[1;32m    796\u001b[0m     )\n",
      "\u001b[0;31mKeyError\u001b[0m: \"DataArray.cf does not understand the key 'vertical'. Use 'repr(DataArray.cf)' (or 'DataArray.cf' in a Jupyter environment) to see a list of key names that can be interpreted.\""
     ]
    }
   ],
   "source": [
    "tinterp = gc.interpolation.interp_hybrid_to_pressure(\n",
    "    ttest, pstest, a_full, b_full, p0=1, new_levels=newlevtest.values, method='log', lev_dim='lev', extrapolate=True,\n",
    "    variable='temperature', t_bot=tbottest, phi_sfc=phis_era5_rg)"
   ]
  },
  {
   "cell_type": "code",
   "execution_count": 46,
   "id": "297cb907-3c05-4ae3-ab02-4ae22576d59b",
   "metadata": {},
   "outputs": [
    {
     "ename": "KeyError",
     "evalue": "\"DataArray.cf does not understand the key 'vertical'. Use 'repr(DataArray.cf)' (or 'DataArray.cf' in a Jupyter environment) to see a list of key names that can be interpreted.\"",
     "output_type": "error",
     "traceback": [
      "\u001b[0;31m---------------------------------------------------------------------------\u001b[0m",
      "\u001b[0;31mKeyError\u001b[0m                                  Traceback (most recent call last)",
      "File \u001b[0;32m~/miniconda3/envs/era5interpenv/lib/python3.10/site-packages/xarray/core/dataarray.py:804\u001b[0m, in \u001b[0;36mDataArray._getitem_coord\u001b[0;34m(self, key)\u001b[0m\n\u001b[1;32m    803\u001b[0m \u001b[38;5;28;01mtry\u001b[39;00m:\n\u001b[0;32m--> 804\u001b[0m     var \u001b[38;5;241m=\u001b[39m \u001b[38;5;28;43mself\u001b[39;49m\u001b[38;5;241;43m.\u001b[39;49m\u001b[43m_coords\u001b[49m\u001b[43m[\u001b[49m\u001b[43mkey\u001b[49m\u001b[43m]\u001b[49m\n\u001b[1;32m    805\u001b[0m \u001b[38;5;28;01mexcept\u001b[39;00m \u001b[38;5;167;01mKeyError\u001b[39;00m:\n",
      "\u001b[0;31mKeyError\u001b[0m: 'vertical'",
      "\nDuring handling of the above exception, another exception occurred:\n",
      "\u001b[0;31mKeyError\u001b[0m                                  Traceback (most recent call last)",
      "File \u001b[0;32m~/miniconda3/envs/era5interpenv/lib/python3.10/site-packages/cf_xarray/accessor.py:750\u001b[0m, in \u001b[0;36m_getitem\u001b[0;34m(accessor, key, skip)\u001b[0m\n\u001b[1;32m    749\u001b[0m \u001b[38;5;28;01mfor\u001b[39;00m name \u001b[38;5;129;01min\u001b[39;00m allnames:\n\u001b[0;32m--> 750\u001b[0m     extravars \u001b[38;5;241m=\u001b[39m \u001b[43maccessor\u001b[49m\u001b[38;5;241;43m.\u001b[39;49m\u001b[43mget_associated_variable_names\u001b[49m\u001b[43m(\u001b[49m\n\u001b[1;32m    751\u001b[0m \u001b[43m        \u001b[49m\u001b[43mname\u001b[49m\u001b[43m,\u001b[49m\u001b[43m \u001b[49m\u001b[43mskip_bounds\u001b[49m\u001b[38;5;241;43m=\u001b[39;49m\u001b[43mscalar_key\u001b[49m\u001b[43m,\u001b[49m\u001b[43m \u001b[49m\u001b[43merror\u001b[49m\u001b[38;5;241;43m=\u001b[39;49m\u001b[38;5;28;43;01mFalse\u001b[39;49;00m\n\u001b[1;32m    752\u001b[0m \u001b[43m    \u001b[49m\u001b[43m)\u001b[49m\n\u001b[1;32m    753\u001b[0m     coords\u001b[38;5;241m.\u001b[39mextend(itertools\u001b[38;5;241m.\u001b[39mchain(\u001b[38;5;241m*\u001b[39mextravars\u001b[38;5;241m.\u001b[39mvalues()))\n",
      "File \u001b[0;32m~/miniconda3/envs/era5interpenv/lib/python3.10/site-packages/cf_xarray/accessor.py:1623\u001b[0m, in \u001b[0;36mCFAccessor.get_associated_variable_names\u001b[0;34m(self, name, skip_bounds, error)\u001b[0m\n\u001b[1;32m   1622\u001b[0m coords: \u001b[38;5;28mdict\u001b[39m[\u001b[38;5;28mstr\u001b[39m, \u001b[38;5;28mlist\u001b[39m[Hashable]] \u001b[38;5;241m=\u001b[39m {k: [] \u001b[38;5;28;01mfor\u001b[39;00m k \u001b[38;5;129;01min\u001b[39;00m keys}\n\u001b[0;32m-> 1623\u001b[0m attrs_or_encoding \u001b[38;5;241m=\u001b[39m ChainMap(\u001b[38;5;28;43mself\u001b[39;49m\u001b[38;5;241;43m.\u001b[39;49m\u001b[43m_obj\u001b[49m\u001b[43m[\u001b[49m\u001b[43mname\u001b[49m\u001b[43m]\u001b[49m\u001b[38;5;241m.\u001b[39mattrs, \u001b[38;5;28mself\u001b[39m\u001b[38;5;241m.\u001b[39m_obj[name]\u001b[38;5;241m.\u001b[39mencoding)\n\u001b[1;32m   1625\u001b[0m coordinates \u001b[38;5;241m=\u001b[39m attrs_or_encoding\u001b[38;5;241m.\u001b[39mget(\u001b[38;5;124m\"\u001b[39m\u001b[38;5;124mcoordinates\u001b[39m\u001b[38;5;124m\"\u001b[39m, \u001b[38;5;28;01mNone\u001b[39;00m)\n",
      "File \u001b[0;32m~/miniconda3/envs/era5interpenv/lib/python3.10/site-packages/xarray/core/dataarray.py:813\u001b[0m, in \u001b[0;36mDataArray.__getitem__\u001b[0;34m(self, key)\u001b[0m\n\u001b[1;32m    812\u001b[0m \u001b[38;5;28;01mif\u001b[39;00m \u001b[38;5;28misinstance\u001b[39m(key, \u001b[38;5;28mstr\u001b[39m):\n\u001b[0;32m--> 813\u001b[0m     \u001b[38;5;28;01mreturn\u001b[39;00m \u001b[38;5;28;43mself\u001b[39;49m\u001b[38;5;241;43m.\u001b[39;49m\u001b[43m_getitem_coord\u001b[49m\u001b[43m(\u001b[49m\u001b[43mkey\u001b[49m\u001b[43m)\u001b[49m\n\u001b[1;32m    814\u001b[0m \u001b[38;5;28;01melse\u001b[39;00m:\n\u001b[1;32m    815\u001b[0m     \u001b[38;5;66;03m# xarray-style array indexing\u001b[39;00m\n",
      "File \u001b[0;32m~/miniconda3/envs/era5interpenv/lib/python3.10/site-packages/xarray/core/dataarray.py:807\u001b[0m, in \u001b[0;36mDataArray._getitem_coord\u001b[0;34m(self, key)\u001b[0m\n\u001b[1;32m    806\u001b[0m     dim_sizes \u001b[38;5;241m=\u001b[39m \u001b[38;5;28mdict\u001b[39m(\u001b[38;5;28mzip\u001b[39m(\u001b[38;5;28mself\u001b[39m\u001b[38;5;241m.\u001b[39mdims, \u001b[38;5;28mself\u001b[39m\u001b[38;5;241m.\u001b[39mshape))\n\u001b[0;32m--> 807\u001b[0m     _, key, var \u001b[38;5;241m=\u001b[39m \u001b[43m_get_virtual_variable\u001b[49m\u001b[43m(\u001b[49m\u001b[38;5;28;43mself\u001b[39;49m\u001b[38;5;241;43m.\u001b[39;49m\u001b[43m_coords\u001b[49m\u001b[43m,\u001b[49m\u001b[43m \u001b[49m\u001b[43mkey\u001b[49m\u001b[43m,\u001b[49m\u001b[43m \u001b[49m\u001b[43mdim_sizes\u001b[49m\u001b[43m)\u001b[49m\n\u001b[1;32m    809\u001b[0m \u001b[38;5;28;01mreturn\u001b[39;00m \u001b[38;5;28mself\u001b[39m\u001b[38;5;241m.\u001b[39m_replace_maybe_drop_dims(var, name\u001b[38;5;241m=\u001b[39mkey)\n",
      "File \u001b[0;32m~/miniconda3/envs/era5interpenv/lib/python3.10/site-packages/xarray/core/dataset.py:185\u001b[0m, in \u001b[0;36m_get_virtual_variable\u001b[0;34m(variables, key, dim_sizes)\u001b[0m\n\u001b[1;32m    184\u001b[0m \u001b[38;5;28;01mif\u001b[39;00m \u001b[38;5;28mlen\u001b[39m(split_key) \u001b[38;5;241m!=\u001b[39m \u001b[38;5;241m2\u001b[39m:\n\u001b[0;32m--> 185\u001b[0m     \u001b[38;5;28;01mraise\u001b[39;00m \u001b[38;5;167;01mKeyError\u001b[39;00m(key)\n\u001b[1;32m    187\u001b[0m ref_name, var_name \u001b[38;5;241m=\u001b[39m split_key\n",
      "\u001b[0;31mKeyError\u001b[0m: 'vertical'",
      "\nDuring handling of the above exception, another exception occurred:\n",
      "\u001b[0;31mKeyError\u001b[0m                                  Traceback (most recent call last)",
      "Cell \u001b[0;32mIn[46], line 4\u001b[0m\n\u001b[1;32m      1\u001b[0m \u001b[38;5;66;03m#tinterp = gc.interpolation.interp_hybrid_to_pressure(\u001b[39;00m\n\u001b[1;32m      2\u001b[0m \u001b[38;5;66;03m#    t_era5_rg.isel(lon=0, lat=0, time=0),psuse.isel(lon=0, lat=0, time=0),a_full, b_full,p0=1, new_levels=newlevels.isel(lon=0, lat=0, time=0).values, lev_dim='level', method='log',\u001b[39;00m\n\u001b[1;32m      3\u001b[0m \u001b[38;5;66;03m#    extrapolate=True, variable='temperature', t_bot=t_era5_rg.isel(level=t_era5_rg.level.size-1), phi_sfc=phis_era5_rg)\u001b[39;00m\n\u001b[0;32m----> 4\u001b[0m tinterp \u001b[38;5;241m=\u001b[39m \u001b[43mgc\u001b[49m\u001b[38;5;241;43m.\u001b[39;49m\u001b[43minterpolation\u001b[49m\u001b[38;5;241;43m.\u001b[39;49m\u001b[43minterp_hybrid_to_pressure\u001b[49m\u001b[43m(\u001b[49m\n\u001b[1;32m      5\u001b[0m \u001b[43m    \u001b[49m\u001b[43mt_era5_rg\u001b[49m\u001b[38;5;241;43m.\u001b[39;49m\u001b[43misel\u001b[49m\u001b[43m(\u001b[49m\u001b[43mlon\u001b[49m\u001b[38;5;241;43m=\u001b[39;49m\u001b[38;5;241;43m0\u001b[39;49m\u001b[43m,\u001b[49m\u001b[43m \u001b[49m\u001b[43mlat\u001b[49m\u001b[38;5;241;43m=\u001b[39;49m\u001b[38;5;241;43m0\u001b[39;49m\u001b[43m,\u001b[49m\u001b[43m \u001b[49m\u001b[43mtime\u001b[49m\u001b[38;5;241;43m=\u001b[39;49m\u001b[38;5;241;43m0\u001b[39;49m\u001b[43m)\u001b[49m\u001b[43m,\u001b[49m\u001b[43mpsuse\u001b[49m\u001b[38;5;241;43m.\u001b[39;49m\u001b[43misel\u001b[49m\u001b[43m(\u001b[49m\u001b[43mlon\u001b[49m\u001b[38;5;241;43m=\u001b[39;49m\u001b[38;5;241;43m0\u001b[39;49m\u001b[43m,\u001b[49m\u001b[43m \u001b[49m\u001b[43mlat\u001b[49m\u001b[38;5;241;43m=\u001b[39;49m\u001b[38;5;241;43m0\u001b[39;49m\u001b[43m,\u001b[49m\u001b[43m \u001b[49m\u001b[43mtime\u001b[49m\u001b[38;5;241;43m=\u001b[39;49m\u001b[38;5;241;43m0\u001b[39;49m\u001b[43m)\u001b[49m\u001b[38;5;241;43m.\u001b[39;49m\u001b[43mvalues\u001b[49m\u001b[43m,\u001b[49m\u001b[43ma_full\u001b[49m\u001b[43m,\u001b[49m\u001b[43m \u001b[49m\u001b[43mb_full\u001b[49m\u001b[43m,\u001b[49m\u001b[43mp0\u001b[49m\u001b[38;5;241;43m=\u001b[39;49m\u001b[38;5;241;43m1\u001b[39;49m\u001b[43m,\u001b[49m\u001b[43m \u001b[49m\u001b[43mmethod\u001b[49m\u001b[38;5;241;43m=\u001b[39;49m\u001b[38;5;124;43m'\u001b[39;49m\u001b[38;5;124;43mlog\u001b[39;49m\u001b[38;5;124;43m'\u001b[39;49m\u001b[43m,\u001b[49m\n\u001b[1;32m      6\u001b[0m \u001b[43m    \u001b[49m\u001b[43mextrapolate\u001b[49m\u001b[38;5;241;43m=\u001b[39;49m\u001b[38;5;28;43;01mTrue\u001b[39;49;00m\u001b[43m,\u001b[49m\u001b[43m \u001b[49m\u001b[43mvariable\u001b[49m\u001b[38;5;241;43m=\u001b[39;49m\u001b[38;5;124;43m'\u001b[39;49m\u001b[38;5;124;43mtemperature\u001b[39;49m\u001b[38;5;124;43m'\u001b[39;49m\u001b[43m,\u001b[49m\u001b[43m \u001b[49m\u001b[43mlev_dim\u001b[49m\u001b[38;5;241;43m=\u001b[39;49m\u001b[38;5;124;43m'\u001b[39;49m\u001b[38;5;124;43mlev\u001b[39;49m\u001b[38;5;124;43m'\u001b[39;49m\u001b[43m,\u001b[49m\u001b[43mt_bot\u001b[49m\u001b[38;5;241;43m=\u001b[39;49m\u001b[43mt_era5_rg\u001b[49m\u001b[38;5;241;43m.\u001b[39;49m\u001b[43misel\u001b[49m\u001b[43m(\u001b[49m\u001b[43mlev\u001b[49m\u001b[38;5;241;43m=\u001b[39;49m\u001b[43mt_era5_rg\u001b[49m\u001b[38;5;241;43m.\u001b[39;49m\u001b[43mlev\u001b[49m\u001b[38;5;241;43m.\u001b[39;49m\u001b[43msize\u001b[49m\u001b[38;5;241;43m-\u001b[39;49m\u001b[38;5;241;43m1\u001b[39;49m\u001b[43m)\u001b[49m\u001b[43m,\u001b[49m\u001b[43m \u001b[49m\u001b[43mphi_sfc\u001b[49m\u001b[38;5;241;43m=\u001b[39;49m\u001b[43mphis_era5_rg\u001b[49m\u001b[43m)\u001b[49m\n",
      "File \u001b[0;32m~/miniconda3/envs/era5interpenv/lib/python3.10/site-packages/geocat/comp/interpolation.py:511\u001b[0m, in \u001b[0;36minterp_hybrid_to_pressure\u001b[0;34m(data, ps, hyam, hybm, p0, new_levels, lev_dim, method, extrapolate, variable, t_bot, phi_sfc)\u001b[0m\n\u001b[1;32m    508\u001b[0m output \u001b[38;5;241m=\u001b[39m output\u001b[38;5;241m.\u001b[39mtranspose(\u001b[38;5;241m*\u001b[39mdims)\u001b[38;5;241m.\u001b[39massign_coords(coords)\n\u001b[1;32m    510\u001b[0m \u001b[38;5;28;01mif\u001b[39;00m extrapolate:\n\u001b[0;32m--> 511\u001b[0m     output \u001b[38;5;241m=\u001b[39m \u001b[43m_vertical_remap_extrap\u001b[49m\u001b[43m(\u001b[49m\u001b[43mnew_levels\u001b[49m\u001b[43m,\u001b[49m\u001b[43m \u001b[49m\u001b[43mlev_dim\u001b[49m\u001b[43m,\u001b[49m\u001b[43m \u001b[49m\u001b[43mdata\u001b[49m\u001b[43m,\u001b[49m\u001b[43m \u001b[49m\u001b[43moutput\u001b[49m\u001b[43m,\u001b[49m\n\u001b[1;32m    512\u001b[0m \u001b[43m                                    \u001b[49m\u001b[43mpressure\u001b[49m\u001b[43m,\u001b[49m\u001b[43m \u001b[49m\u001b[43mps\u001b[49m\u001b[43m,\u001b[49m\u001b[43m \u001b[49m\u001b[43mvariable\u001b[49m\u001b[43m,\u001b[49m\u001b[43m \u001b[49m\u001b[43mt_bot\u001b[49m\u001b[43m,\u001b[49m\u001b[43m \u001b[49m\u001b[43mphi_sfc\u001b[49m\u001b[43m)\u001b[49m\n\u001b[1;32m    514\u001b[0m \u001b[38;5;28;01mreturn\u001b[39;00m output\n",
      "File \u001b[0;32m~/miniconda3/envs/era5interpenv/lib/python3.10/site-packages/geocat/comp/interpolation.py:288\u001b[0m, in \u001b[0;36m_vertical_remap_extrap\u001b[0;34m(new_levels, lev_dim, data, output, pressure, ps, variable, t_bot, phi_sfc)\u001b[0m\n\u001b[1;32m    245\u001b[0m \u001b[38;5;28;01mdef\u001b[39;00m \u001b[38;5;21m_vertical_remap_extrap\u001b[39m(new_levels, lev_dim, data, output, pressure, ps,\n\u001b[1;32m    246\u001b[0m                            variable, t_bot, phi_sfc):\n\u001b[1;32m    247\u001b[0m \u001b[38;5;250m    \u001b[39m\u001b[38;5;124;03m\"\"\"A helper function to call the appropriate extrapolation function based\u001b[39;00m\n\u001b[1;32m    248\u001b[0m \u001b[38;5;124;03m    on the user's inputs.\u001b[39;00m\n\u001b[1;32m    249\u001b[0m \n\u001b[0;32m   (...)\u001b[0m\n\u001b[1;32m    286\u001b[0m \u001b[38;5;124;03m        A DataArray containing the data after extrapolation.\u001b[39;00m\n\u001b[1;32m    287\u001b[0m \u001b[38;5;124;03m    \"\"\"\u001b[39;00m\n\u001b[0;32m--> 288\u001b[0m     plev_name \u001b[38;5;241m=\u001b[39m \u001b[43mpressure\u001b[49m\u001b[38;5;241;43m.\u001b[39;49m\u001b[43mcf\u001b[49m\u001b[43m[\u001b[49m\u001b[38;5;124;43m'\u001b[39;49m\u001b[38;5;124;43mvertical\u001b[39;49m\u001b[38;5;124;43m'\u001b[39;49m\u001b[43m]\u001b[49m\u001b[38;5;241m.\u001b[39mname\n\u001b[1;32m    289\u001b[0m     sfc_index \u001b[38;5;241m=\u001b[39m pressure[plev_name]\u001b[38;5;241m.\u001b[39margmax()\u001b[38;5;241m.\u001b[39mdata  \u001b[38;5;66;03m# index of the model surface\u001b[39;00m\n\u001b[1;32m    290\u001b[0m     p_sfc \u001b[38;5;241m=\u001b[39m pressure\u001b[38;5;241m.\u001b[39misel(\u001b[38;5;241m*\u001b[39m\u001b[38;5;241m*\u001b[39m\u001b[38;5;28mdict\u001b[39m({plev_name: sfc_index\n\u001b[1;32m    291\u001b[0m                                  }))  \u001b[38;5;66;03m# extract pressure at lowest level\u001b[39;00m\n",
      "File \u001b[0;32m~/miniconda3/envs/era5interpenv/lib/python3.10/site-packages/cf_xarray/accessor.py:2587\u001b[0m, in \u001b[0;36mCFDataArrayAccessor.__getitem__\u001b[0;34m(self, key)\u001b[0m\n\u001b[1;32m   2582\u001b[0m \u001b[38;5;28;01mif\u001b[39;00m \u001b[38;5;129;01mnot\u001b[39;00m \u001b[38;5;28misinstance\u001b[39m(key, Hashable):\n\u001b[1;32m   2583\u001b[0m     \u001b[38;5;28;01mraise\u001b[39;00m \u001b[38;5;167;01mKeyError\u001b[39;00m(\n\u001b[1;32m   2584\u001b[0m         \u001b[38;5;124mf\u001b[39m\u001b[38;5;124m\"\u001b[39m\u001b[38;5;124mCannot use an Iterable of keys with DataArrays. Expected a single string. Received \u001b[39m\u001b[38;5;132;01m{\u001b[39;00mkey\u001b[38;5;132;01m!r}\u001b[39;00m\u001b[38;5;124m instead.\u001b[39m\u001b[38;5;124m\"\u001b[39m\n\u001b[1;32m   2585\u001b[0m     )\n\u001b[0;32m-> 2587\u001b[0m \u001b[38;5;28;01mreturn\u001b[39;00m \u001b[43m_getitem\u001b[49m\u001b[43m(\u001b[49m\u001b[38;5;28;43mself\u001b[39;49m\u001b[43m,\u001b[49m\u001b[43m \u001b[49m\u001b[43mkey\u001b[49m\u001b[43m)\u001b[49m\n",
      "File \u001b[0;32m~/miniconda3/envs/era5interpenv/lib/python3.10/site-packages/cf_xarray/accessor.py:793\u001b[0m, in \u001b[0;36m_getitem\u001b[0;34m(accessor, key, skip)\u001b[0m\n\u001b[1;32m    790\u001b[0m     \u001b[38;5;28;01mreturn\u001b[39;00m ds\u001b[38;5;241m.\u001b[39mset_coords(coords)\n\u001b[1;32m    792\u001b[0m \u001b[38;5;28;01mexcept\u001b[39;00m \u001b[38;5;167;01mKeyError\u001b[39;00m:\n\u001b[0;32m--> 793\u001b[0m     \u001b[38;5;28;01mraise\u001b[39;00m \u001b[38;5;167;01mKeyError\u001b[39;00m(\n\u001b[1;32m    794\u001b[0m         \u001b[38;5;124mf\u001b[39m\u001b[38;5;124m\"\u001b[39m\u001b[38;5;132;01m{\u001b[39;00mkind\u001b[38;5;132;01m}\u001b[39;00m\u001b[38;5;124m.cf does not understand the key \u001b[39m\u001b[38;5;132;01m{\u001b[39;00mk\u001b[38;5;132;01m!r}\u001b[39;00m\u001b[38;5;124m. \u001b[39m\u001b[38;5;124m\"\u001b[39m\n\u001b[1;32m    795\u001b[0m         \u001b[38;5;124mf\u001b[39m\u001b[38;5;124m\"\u001b[39m\u001b[38;5;124mUse \u001b[39m\u001b[38;5;124m'\u001b[39m\u001b[38;5;124mrepr(\u001b[39m\u001b[38;5;132;01m{\u001b[39;00mkind\u001b[38;5;132;01m}\u001b[39;00m\u001b[38;5;124m.cf)\u001b[39m\u001b[38;5;124m'\u001b[39m\u001b[38;5;124m (or \u001b[39m\u001b[38;5;124m'\u001b[39m\u001b[38;5;132;01m{\u001b[39;00mkind\u001b[38;5;132;01m}\u001b[39;00m\u001b[38;5;124m.cf\u001b[39m\u001b[38;5;124m'\u001b[39m\u001b[38;5;124m in a Jupyter environment) to see a list of key names that can be interpreted.\u001b[39m\u001b[38;5;124m\"\u001b[39m\n\u001b[1;32m    796\u001b[0m     )\n",
      "\u001b[0;31mKeyError\u001b[0m: \"DataArray.cf does not understand the key 'vertical'. Use 'repr(DataArray.cf)' (or 'DataArray.cf' in a Jupyter environment) to see a list of key names that can be interpreted.\""
     ]
    }
   ],
   "source": [
    "#tinterp = gc.interpolation.interp_hybrid_to_pressure(\n",
    "#    t_era5_rg.isel(lon=0, lat=0, time=0),psuse.isel(lon=0, lat=0, time=0),a_full, b_full,p0=1, new_levels=newlevels.isel(lon=0, lat=0, time=0).values, lev_dim='level', method='log',\n",
    "#    extrapolate=True, variable='temperature', t_bot=t_era5_rg.isel(level=t_era5_rg.level.size-1), phi_sfc=phis_era5_rg)\n",
    "tinterp = gc.interpolation.interp_hybrid_to_pressure(\n",
    "    t_era5_rg.isel(lon=0, lat=0, time=0),psuse.isel(lon=0, lat=0, time=0).values,a_full, b_full,p0=1, method='log',\n",
    "    extrapolate=True, variable='temperature', lev_dim='lev',t_bot=t_era5_rg.isel(lev=t_era5_rg.lev.size-1), phi_sfc=phis_era5_rg)"
   ]
  },
  {
   "cell_type": "code",
   "execution_count": 38,
   "id": "24f5ec68-82d0-4c05-bac2-05d6b14fe1fb",
   "metadata": {},
   "outputs": [
    {
     "name": "stdout",
     "output_type": "stream",
     "text": [
      "<xarray.DataArray (time: 6, lat: 192, lon: 288)>\n",
      "array([[[ 52855.95719861,  52854.05032347,  52852.54098608, ...,\n",
      "          52856.16433421,  52856.04071413,  52855.93759408],\n",
      "        [ 68671.82100445,  68639.78447   ,  68604.15579284, ...,\n",
      "          68759.945051  ,  68730.37984523,  68700.13183765],\n",
      "        [ 69482.41207788,  69415.94325676,  69348.52650377, ...,\n",
      "          69667.07750977,  69603.17950884,  69541.65004142],\n",
      "        ...,\n",
      "        [101455.19336064, 101458.27116274, 101461.34320858, ...,\n",
      "         101441.38058314, 101446.10508067, 101450.7344476 ],\n",
      "        [101454.16786155, 101454.75398203, 101455.40113251, ...,\n",
      "         101452.59640279, 101453.20220572, 101453.61762034],\n",
      "        [ 85169.54673612,  85170.0009438 ,  85170.44255618, ...,\n",
      "          85169.40135325,  85169.30712152,  85169.38749533]],\n",
      "\n",
      "       [[ 52859.49347336,  52857.56932619,  52856.10003892, ...,\n",
      "          52859.8942306 ,  52859.54963368,  52859.48761432],\n",
      "        [ 68661.74362004,  68629.78538267,  68594.29129898, ...,\n",
      "          68749.34135911,  68719.93099699,  68689.90028625],\n",
      "        [ 69464.17460005,  69398.22992219,  69331.7683851 , ...,\n",
      "          69645.73676265,  69582.74461556,  69522.36804146],\n",
      "...\n",
      "        [101363.21554751, 101365.81773101, 101368.27345114, ...,\n",
      "         101350.63630759, 101354.75168531, 101359.15475105],\n",
      "        [101377.77149273, 101378.31885795, 101378.88809989, ...,\n",
      "         101376.56536927, 101376.86708868, 101377.38470786],\n",
      "        [ 85100.50591431,  85100.80377235,  85101.00317311, ...,\n",
      "          85100.36034238,  85100.28180385,  85100.37005423]],\n",
      "\n",
      "       [[ 52874.2226152 ,  52872.19951018,  52870.63632983, ...,\n",
      "          52874.64497195,  52874.33264849,  52874.23913458],\n",
      "        [ 68663.58356274,  68631.11662936,  68595.08245391, ...,\n",
      "          68753.69807829,  68723.45302492,  68692.62635985],\n",
      "        [ 69435.99614637,  69370.06902055,  69303.65633583, ...,\n",
      "          69618.13539242,  69554.86866948,  69494.31697168],\n",
      "        ...,\n",
      "        [101308.53524501, 101311.16132745, 101313.73467254, ...,\n",
      "         101295.99467898, 101300.39143793, 101304.57586592],\n",
      "        [101335.43724936, 101335.93015633, 101336.40581543, ...,\n",
      "         101334.35461311, 101334.69589123, 101335.08122391],\n",
      "        [ 85073.27868174,  85073.59212468,  85073.88526733, ...,\n",
      "          85072.78146993,  85072.9217106 ,  85073.1037362 ]]])\n",
      "Coordinates:\n",
      "  * time     (time) datetime64[ns] 2021-06-01 ... 2021-06-01T05:00:00\n",
      "  * lat      (lat) float32 -90.0 -89.06 -88.12 -87.17 ... 87.17 88.12 89.06 90.0\n",
      "  * lon      (lon) float32 0.0 1.25 2.5 3.75 5.0 ... 355.0 356.2 357.5 358.8\n"
     ]
    }
   ],
   "source": [
    "print(psuse)"
   ]
  },
  {
   "cell_type": "code",
   "execution_count": 37,
   "id": "6febdee5-655e-48a9-9c49-8d7036a09895",
   "metadata": {},
   "outputs": [
    {
     "name": "stdout",
     "output_type": "stream",
     "text": [
      "<xarray.DataArray 'b_model' (level: 137)>\n",
      "array([0.000000e+00, 0.000000e+00, 0.000000e+00, 0.000000e+00, 0.000000e+00,\n",
      "       0.000000e+00, 0.000000e+00, 0.000000e+00, 0.000000e+00, 0.000000e+00,\n",
      "       0.000000e+00, 0.000000e+00, 0.000000e+00, 0.000000e+00, 0.000000e+00,\n",
      "       0.000000e+00, 0.000000e+00, 0.000000e+00, 0.000000e+00, 0.000000e+00,\n",
      "       0.000000e+00, 0.000000e+00, 0.000000e+00, 0.000000e+00, 0.000000e+00,\n",
      "       0.000000e+00, 0.000000e+00, 0.000000e+00, 0.000000e+00, 0.000000e+00,\n",
      "       0.000000e+00, 0.000000e+00, 0.000000e+00, 0.000000e+00, 0.000000e+00,\n",
      "       0.000000e+00, 0.000000e+00, 0.000000e+00, 0.000000e+00, 0.000000e+00,\n",
      "       0.000000e+00, 0.000000e+00, 0.000000e+00, 0.000000e+00, 0.000000e+00,\n",
      "       0.000000e+00, 0.000000e+00, 0.000000e+00, 0.000000e+00, 0.000000e+00,\n",
      "       0.000000e+00, 0.000000e+00, 0.000000e+00, 0.000000e+00, 3.500000e-06,\n",
      "       1.550000e-05, 4.150000e-05, 8.550000e-05, 1.555000e-04, 2.695000e-04,\n",
      "       4.510000e-04, 7.260000e-04, 1.121500e-03, 1.672500e-03, 2.424500e-03,\n",
      "       3.414000e-03, 4.674500e-03, 6.255500e-03, 8.197000e-03, 1.053350e-02,\n",
      "       1.331100e-02, 1.656700e-02, 2.033650e-02, 2.465950e-02, 2.957000e-02,\n",
      "       3.510100e-02, 4.128700e-02, 4.816050e-02, 5.575050e-02, 6.408800e-02,\n",
      "       7.320300e-02, 8.312200e-02, 9.387400e-02, 1.054835e-01, 1.179765e-01,\n",
      "       1.313805e-01, 1.457190e-01, 1.610175e-01, 1.772995e-01, 1.945900e-01,\n",
      "       2.129120e-01, 2.322885e-01, 2.527430e-01, 2.742980e-01, 2.969760e-01,\n",
      "       3.207685e-01, 3.455965e-01, 3.713085e-01, 3.977440e-01, 4.247580e-01,\n",
      "       4.521970e-01, 4.799015e-01, 5.077095e-01, 5.354600e-01, 5.629965e-01,\n",
      "       5.901700e-01, 6.168420e-01, 6.428860e-01, 6.681895e-01, 6.926560e-01,\n",
      "       7.162040e-01, 7.387680e-01, 7.602975e-01, 7.807575e-01, 8.001265e-01,\n",
      "       8.183960e-01, 8.355685e-01, 8.516565e-01, 8.666805e-01, 8.806685e-01,\n",
      "       8.936540e-01, 9.056740e-01, 9.167720e-01, 9.269885e-01, 9.363705e-01,\n",
      "       9.449620e-01, 9.528070e-01, 9.599510e-01, 9.664325e-01, 9.722955e-01,\n",
      "       9.775750e-01, 9.823070e-01, 9.865210e-01, 9.902420e-01, 9.934935e-01,\n",
      "       9.963165e-01, 9.988150e-01])\n",
      "Coordinates:\n",
      "  * level    (level) int32 1 2 3 4 5 6 7 8 9 ... 130 131 132 133 134 135 136 137\n",
      "Attributes:\n",
      "    long_name:                          model level b coefficient\n",
      "    short_name:                         b_model\n",
      "    units:                              1\n",
      "    source:                             https://www.ecmwf.int/en/elibrary/920...\n",
      "    for_an_alternative_derivation_see:  Simmons, A. J., and D. M. Burridge, 1...\n"
     ]
    }
   ],
   "source": [
    "print(b_full)"
   ]
  },
  {
   "cell_type": "code",
   "execution_count": 27,
   "id": "9998ede9-3db7-4555-b91e-53a9143c109d",
   "metadata": {},
   "outputs": [
    {
     "ename": "ValueError",
     "evalue": "cannot add coordinates with new dimensions to a DataArray",
     "output_type": "error",
     "traceback": [
      "\u001b[0;31m---------------------------------------------------------------------------\u001b[0m",
      "\u001b[0;31mValueError\u001b[0m                                Traceback (most recent call last)",
      "Cell \u001b[0;32mIn[27], line 1\u001b[0m\n\u001b[0;32m----> 1\u001b[0m tinterp \u001b[38;5;241m=\u001b[39m \u001b[43mgc\u001b[49m\u001b[38;5;241;43m.\u001b[39;49m\u001b[43minterpolation\u001b[49m\u001b[38;5;241;43m.\u001b[39;49m\u001b[43minterp_hybrid_to_pressure\u001b[49m\u001b[43m(\u001b[49m\n\u001b[1;32m      2\u001b[0m \u001b[43m    \u001b[49m\u001b[43mt_era5_rg\u001b[49m\u001b[38;5;241;43m.\u001b[39;49m\u001b[43misel\u001b[49m\u001b[43m(\u001b[49m\u001b[43mlon\u001b[49m\u001b[38;5;241;43m=\u001b[39;49m\u001b[38;5;241;43m0\u001b[39;49m\u001b[43m,\u001b[49m\u001b[43m \u001b[49m\u001b[43mlat\u001b[49m\u001b[38;5;241;43m=\u001b[39;49m\u001b[38;5;241;43m0\u001b[39;49m\u001b[43m,\u001b[49m\u001b[43m \u001b[49m\u001b[43mtime\u001b[49m\u001b[38;5;241;43m=\u001b[39;49m\u001b[38;5;241;43m0\u001b[39;49m\u001b[43m)\u001b[49m\u001b[43m,\u001b[49m\u001b[43mpsuse\u001b[49m\u001b[38;5;241;43m.\u001b[39;49m\u001b[43misel\u001b[49m\u001b[43m(\u001b[49m\u001b[43mlon\u001b[49m\u001b[38;5;241;43m=\u001b[39;49m\u001b[38;5;241;43m0\u001b[39;49m\u001b[43m,\u001b[49m\u001b[43m \u001b[49m\u001b[43mlat\u001b[49m\u001b[38;5;241;43m=\u001b[39;49m\u001b[38;5;241;43m0\u001b[39;49m\u001b[43m,\u001b[49m\u001b[43m \u001b[49m\u001b[43mtime\u001b[49m\u001b[38;5;241;43m=\u001b[39;49m\u001b[38;5;241;43m0\u001b[39;49m\u001b[43m)\u001b[49m\u001b[43m,\u001b[49m\u001b[43ma_full\u001b[49m\u001b[43m,\u001b[49m\u001b[43m \u001b[49m\u001b[43mb_full\u001b[49m\u001b[43m,\u001b[49m\u001b[43mp0\u001b[49m\u001b[38;5;241;43m=\u001b[39;49m\u001b[38;5;241;43m1\u001b[39;49m\u001b[43m,\u001b[49m\u001b[43m \u001b[49m\u001b[43mnew_levels\u001b[49m\u001b[38;5;241;43m=\u001b[39;49m\u001b[43mnewlevels\u001b[49m\u001b[38;5;241;43m.\u001b[39;49m\u001b[43misel\u001b[49m\u001b[43m(\u001b[49m\u001b[43mlon\u001b[49m\u001b[38;5;241;43m=\u001b[39;49m\u001b[38;5;241;43m0\u001b[39;49m\u001b[43m,\u001b[49m\u001b[43m \u001b[49m\u001b[43mlat\u001b[49m\u001b[38;5;241;43m=\u001b[39;49m\u001b[38;5;241;43m0\u001b[39;49m\u001b[43m,\u001b[49m\u001b[43m \u001b[49m\u001b[43mtime\u001b[49m\u001b[38;5;241;43m=\u001b[39;49m\u001b[38;5;241;43m0\u001b[39;49m\u001b[43m)\u001b[49m\u001b[43m,\u001b[49m\u001b[43m \u001b[49m\u001b[43mlev_dim\u001b[49m\u001b[38;5;241;43m=\u001b[39;49m\u001b[38;5;124;43m'\u001b[39;49m\u001b[38;5;124;43mlevel\u001b[39;49m\u001b[38;5;124;43m'\u001b[39;49m\u001b[43m,\u001b[49m\u001b[43m \u001b[49m\u001b[43mmethod\u001b[49m\u001b[38;5;241;43m=\u001b[39;49m\u001b[38;5;124;43m'\u001b[39;49m\u001b[38;5;124;43mlog\u001b[39;49m\u001b[38;5;124;43m'\u001b[39;49m\u001b[43m)\u001b[49m\n",
      "File \u001b[0;32m~/miniconda3/envs/era5interpenv/lib/python3.10/site-packages/geocat/comp/interpolation.py:508\u001b[0m, in \u001b[0;36minterp_hybrid_to_pressure\u001b[0;34m(data, ps, hyam, hybm, p0, new_levels, lev_dim, method, extrapolate, variable, t_bot, phi_sfc)\u001b[0m\n\u001b[1;32m    505\u001b[0m     \u001b[38;5;28;01melse\u001b[39;00m:\n\u001b[1;32m    506\u001b[0m         coords\u001b[38;5;241m.\u001b[39mupdate({\u001b[38;5;124m\"\u001b[39m\u001b[38;5;124mplev\u001b[39m\u001b[38;5;124m\"\u001b[39m: new_levels})\n\u001b[0;32m--> 508\u001b[0m output \u001b[38;5;241m=\u001b[39m \u001b[43moutput\u001b[49m\u001b[38;5;241;43m.\u001b[39;49m\u001b[43mtranspose\u001b[49m\u001b[43m(\u001b[49m\u001b[38;5;241;43m*\u001b[39;49m\u001b[43mdims\u001b[49m\u001b[43m)\u001b[49m\u001b[38;5;241;43m.\u001b[39;49m\u001b[43massign_coords\u001b[49m\u001b[43m(\u001b[49m\u001b[43mcoords\u001b[49m\u001b[43m)\u001b[49m\n\u001b[1;32m    510\u001b[0m \u001b[38;5;28;01mif\u001b[39;00m extrapolate:\n\u001b[1;32m    511\u001b[0m     output \u001b[38;5;241m=\u001b[39m _vertical_remap_extrap(new_levels, lev_dim, data, output,\n\u001b[1;32m    512\u001b[0m                                     pressure, ps, variable, t_bot, phi_sfc)\n",
      "File \u001b[0;32m~/miniconda3/envs/era5interpenv/lib/python3.10/site-packages/xarray/core/common.py:605\u001b[0m, in \u001b[0;36mDataWithCoords.assign_coords\u001b[0;34m(self, coords, **coords_kwargs)\u001b[0m\n\u001b[1;32m    603\u001b[0m data \u001b[38;5;241m=\u001b[39m \u001b[38;5;28mself\u001b[39m\u001b[38;5;241m.\u001b[39mcopy(deep\u001b[38;5;241m=\u001b[39m\u001b[38;5;28;01mFalse\u001b[39;00m)\n\u001b[1;32m    604\u001b[0m results: \u001b[38;5;28mdict\u001b[39m[Hashable, Any] \u001b[38;5;241m=\u001b[39m \u001b[38;5;28mself\u001b[39m\u001b[38;5;241m.\u001b[39m_calc_assign_results(coords_combined)\n\u001b[0;32m--> 605\u001b[0m \u001b[43mdata\u001b[49m\u001b[38;5;241;43m.\u001b[39;49m\u001b[43mcoords\u001b[49m\u001b[38;5;241;43m.\u001b[39;49m\u001b[43mupdate\u001b[49m\u001b[43m(\u001b[49m\u001b[43mresults\u001b[49m\u001b[43m)\u001b[49m\n\u001b[1;32m    606\u001b[0m \u001b[38;5;28;01mreturn\u001b[39;00m data\n",
      "File \u001b[0;32m~/miniconda3/envs/era5interpenv/lib/python3.10/site-packages/xarray/core/coordinates.py:172\u001b[0m, in \u001b[0;36mCoordinates.update\u001b[0;34m(self, other)\u001b[0m\n\u001b[1;32m    168\u001b[0m \u001b[38;5;28mself\u001b[39m\u001b[38;5;241m.\u001b[39m_maybe_drop_multiindex_coords(\u001b[38;5;28mset\u001b[39m(other_vars))\n\u001b[1;32m    169\u001b[0m coords, indexes \u001b[38;5;241m=\u001b[39m merge_coords(\n\u001b[1;32m    170\u001b[0m     [\u001b[38;5;28mself\u001b[39m\u001b[38;5;241m.\u001b[39mvariables, other_vars], priority_arg\u001b[38;5;241m=\u001b[39m\u001b[38;5;241m1\u001b[39m, indexes\u001b[38;5;241m=\u001b[39m\u001b[38;5;28mself\u001b[39m\u001b[38;5;241m.\u001b[39mxindexes\n\u001b[1;32m    171\u001b[0m )\n\u001b[0;32m--> 172\u001b[0m \u001b[38;5;28;43mself\u001b[39;49m\u001b[38;5;241;43m.\u001b[39;49m\u001b[43m_update_coords\u001b[49m\u001b[43m(\u001b[49m\u001b[43mcoords\u001b[49m\u001b[43m,\u001b[49m\u001b[43m \u001b[49m\u001b[43mindexes\u001b[49m\u001b[43m)\u001b[49m\n",
      "File \u001b[0;32m~/miniconda3/envs/era5interpenv/lib/python3.10/site-packages/xarray/core/coordinates.py:390\u001b[0m, in \u001b[0;36mDataArrayCoordinates._update_coords\u001b[0;34m(self, coords, indexes)\u001b[0m\n\u001b[1;32m    388\u001b[0m dims \u001b[38;5;241m=\u001b[39m calculate_dimensions(coords_plus_data)\n\u001b[1;32m    389\u001b[0m \u001b[38;5;28;01mif\u001b[39;00m \u001b[38;5;129;01mnot\u001b[39;00m \u001b[38;5;28mset\u001b[39m(dims) \u001b[38;5;241m<\u001b[39m\u001b[38;5;241m=\u001b[39m \u001b[38;5;28mset\u001b[39m(\u001b[38;5;28mself\u001b[39m\u001b[38;5;241m.\u001b[39mdims):\n\u001b[0;32m--> 390\u001b[0m     \u001b[38;5;28;01mraise\u001b[39;00m \u001b[38;5;167;01mValueError\u001b[39;00m(\n\u001b[1;32m    391\u001b[0m         \u001b[38;5;124m\"\u001b[39m\u001b[38;5;124mcannot add coordinates with new dimensions to a DataArray\u001b[39m\u001b[38;5;124m\"\u001b[39m\n\u001b[1;32m    392\u001b[0m     )\n\u001b[1;32m    393\u001b[0m \u001b[38;5;28mself\u001b[39m\u001b[38;5;241m.\u001b[39m_data\u001b[38;5;241m.\u001b[39m_coords \u001b[38;5;241m=\u001b[39m coords\n\u001b[1;32m    395\u001b[0m \u001b[38;5;66;03m# TODO(shoyer): once ._indexes is always populated by a dict, modify\u001b[39;00m\n\u001b[1;32m    396\u001b[0m \u001b[38;5;66;03m# it to update inplace instead.\u001b[39;00m\n",
      "\u001b[0;31mValueError\u001b[0m: cannot add coordinates with new dimensions to a DataArray"
     ]
    }
   ],
   "source": [
    "tinterp = gc.interpolation.interp_hybrid_to_pressure(\n",
    "    t_era5_rg.isel(lon=0, lat=0, time=0),psuse.isel(lon=0, lat=0, time=0),a_full, b_full,p0=1, new_levels=newlevels.isel(lon=0, lat=0, time=0), lev_dim='level', method='log')"
   ]
  },
  {
   "cell_type": "code",
   "execution_count": null,
   "id": "2b642543-cf95-43ca-981a-a9bd82426830",
   "metadata": {},
   "outputs": [],
   "source": []
  }
 ],
 "metadata": {
  "kernelspec": {
   "display_name": "Python [conda env:miniconda3-era5interpenv]",
   "language": "python",
   "name": "conda-env-miniconda3-era5interpenv-py"
  },
  "language_info": {
   "codemirror_mode": {
    "name": "ipython",
    "version": 3
   },
   "file_extension": ".py",
   "mimetype": "text/x-python",
   "name": "python",
   "nbconvert_exporter": "python",
   "pygments_lexer": "ipython3",
   "version": "3.10.9"
  }
 },
 "nbformat": 4,
 "nbformat_minor": 5
}
